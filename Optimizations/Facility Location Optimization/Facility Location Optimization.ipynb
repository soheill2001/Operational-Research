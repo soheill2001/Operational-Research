{
  "nbformat": 4,
  "nbformat_minor": 0,
  "metadata": {
    "colab": {
      "provenance": []
    },
    "kernelspec": {
      "name": "python3",
      "display_name": "Python 3"
    },
    "language_info": {
      "name": "python"
    }
  },
  "cells": [
    {
      "cell_type": "code",
      "execution_count": null,
      "metadata": {
        "id": "eZb3IaiYC-21"
      },
      "outputs": [],
      "source": [
        "%%bash\n",
        "pip install pyomo\n",
        "apt-get install -y -qq glpk-utils"
      ]
    },
    {
      "cell_type": "code",
      "source": [
        "import pyomo.environ as pyo\n",
        "from pyomo.environ import *\n",
        "from pyomo.opt import SolverFactory"
      ],
      "metadata": {
        "id": "HNQzkU_xDvDe"
      },
      "execution_count": 2,
      "outputs": []
    },
    {
      "cell_type": "code",
      "source": [
        "def Get_Input():\n",
        "  costumers = eval(input())\n",
        "  costumers_xy = []\n",
        "  for i in range(costumers):\n",
        "    costumers_xy.append(list(map(int, input().split())))\n",
        "  return costumers, costumers_xy"
      ],
      "metadata": {
        "id": "02TEExjpD5bQ"
      },
      "execution_count": 3,
      "outputs": []
    },
    {
      "cell_type": "code",
      "source": [
        "def Distance(model):\n",
        "  return sum(model.var)"
      ],
      "metadata": {
        "id": "LafmhFDFVM6F"
      },
      "execution_count": 68,
      "outputs": []
    },
    {
      "cell_type": "code",
      "source": [
        "def Build_Model(costumers_xy):\n",
        "  model = pyo.ConcreteModel()\n",
        "  model.x = pyo.Var([1, 2], domain = pyo.NonNegativeReals)\n",
        "  model.var = pyo.Var([i for i in range(2 * len(costumers_xy))], domain = pyo.Integers)\n",
        "  x = model.x[1]\n",
        "  y = model.x[2]\n",
        "  model.c = pyo.ConstraintList()\n",
        "  for i in range(0, len(costumers_xy), 2):\n",
        "    model.c.add(expr = x - costumers_xy[i][0] <= model.var[i])\n",
        "    model.c.add(expr = -1 * (x - costumers_xy[i][0]) <= model.var[i])\n",
        "    model.c.add(expr = y - costumers_xy[i][1] <= model.var[i + 1])\n",
        "    model.c.add(expr = -1 * (y - costumers_xy[i][1]) <= model.var[i + 1])\n",
        "  model.obj = pyo.Objective(rule = Distance, sense = minimize)\n",
        "  return model"
      ],
      "metadata": {
        "id": "VQvQ1005Dzeu"
      },
      "execution_count": 88,
      "outputs": []
    },
    {
      "cell_type": "code",
      "source": [
        "def Solve_Model(model, costumers_xy):\n",
        "  opt = SolverFactory('glpk')\n",
        "  opt.solve(model)\n",
        "  model.pprint()\n",
        "  sum = 0 \n",
        "  for i in range(len(costumers_xy)):\n",
        "    sum += abs(pyo.value(model.x[1]) - costumers_xy[i][0]) + abs(pyo.value(model.x[2]) - costumers_xy[i][1])\n",
        "  print('optimal cost value = ', sum)\n",
        "  print('optimal coordinate =', pyo.value(model.x[1]), pyo.value(model.x[2]))"
      ],
      "metadata": {
        "id": "aG1URHvOXWMQ"
      },
      "execution_count": 97,
      "outputs": []
    },
    {
      "cell_type": "code",
      "source": [
        "costumers, costumers_xy = Get_Input()"
      ],
      "metadata": {
        "colab": {
          "base_uri": "https://localhost:8080/"
        },
        "id": "X4Iaz62EMM22",
        "outputId": "9c7462ec-5261-404a-bdc2-8a08e3a2d699"
      },
      "execution_count": 8,
      "outputs": [
        {
          "name": "stdout",
          "output_type": "stream",
          "text": [
            "3\n",
            "2 5\n",
            "3 3\n",
            "3 5\n"
          ]
        }
      ]
    },
    {
      "cell_type": "code",
      "source": [
        "model = Build_Model(costumers_xy)\n",
        "Solve_Model(model, costumers_xy)"
      ],
      "metadata": {
        "colab": {
          "base_uri": "https://localhost:8080/"
        },
        "id": "wbCtLOWLMRJv",
        "outputId": "aae5cce4-9972-44a1-9813-102efb59f924"
      },
      "execution_count": 98,
      "outputs": [
        {
          "output_type": "stream",
          "name": "stderr",
          "text": [
            "WARNING:pyomo.core:Constant objective detected, replacing with a placeholder to prevent solver failure.\n"
          ]
        },
        {
          "output_type": "stream",
          "name": "stdout",
          "text": [
            "3 Set Declarations\n",
            "    c_index : Size=1, Index=None, Ordered=Insertion\n",
            "        Key  : Dimen : Domain : Size : Members\n",
            "        None :     1 :    Any :    8 : {1, 2, 3, 4, 5, 6, 7, 8}\n",
            "    var_index : Size=1, Index=None, Ordered=Insertion\n",
            "        Key  : Dimen : Domain : Size : Members\n",
            "        None :     1 :    Any :    6 : {0, 1, 2, 3, 4, 5}\n",
            "    x_index : Size=1, Index=None, Ordered=Insertion\n",
            "        Key  : Dimen : Domain : Size : Members\n",
            "        None :     1 :    Any :    2 : {1, 2}\n",
            "\n",
            "2 Var Declarations\n",
            "    var : Size=6, Index=var_index\n",
            "        Key : Lower : Value : Upper : Fixed : Stale : Domain\n",
            "          0 :  None :   1.0 :  None : False : False : Integers\n",
            "          1 :  None :   0.0 :  None : False : False : Integers\n",
            "          2 :  None :   0.0 :  None : False : False : Integers\n",
            "          3 :  None :   0.0 :  None : False : False : Integers\n",
            "          4 :  None :  None :  None : False :  True : Integers\n",
            "          5 :  None :  None :  None : False :  True : Integers\n",
            "    x : Size=2, Index=x_index\n",
            "        Key : Lower : Value : Upper : Fixed : Stale : Domain\n",
            "          1 :     0 :   3.0 :  None : False : False : NonNegativeReals\n",
            "          2 :     0 :   5.0 :  None : False : False : NonNegativeReals\n",
            "\n",
            "1 Objective Declarations\n",
            "    obj : Size=1, Index=None, Active=True\n",
            "        Key  : Active : Sense    : Expression\n",
            "        None :   True : minimize :       15.0\n",
            "\n",
            "1 Constraint Declarations\n",
            "    c : Size=8, Index=c_index, Active=True\n",
            "        Key : Lower : Body                  : Upper : Active\n",
            "          1 :  -Inf :     x[1] - 2 - var[0] :   0.0 :   True\n",
            "          2 :  -Inf : - (x[1] - 2) - var[0] :   0.0 :   True\n",
            "          3 :  -Inf :     x[2] - 5 - var[1] :   0.0 :   True\n",
            "          4 :  -Inf : - (x[2] - 5) - var[1] :   0.0 :   True\n",
            "          5 :  -Inf :     x[1] - 3 - var[2] :   0.0 :   True\n",
            "          6 :  -Inf : - (x[1] - 3) - var[2] :   0.0 :   True\n",
            "          7 :  -Inf :     x[2] - 5 - var[3] :   0.0 :   True\n",
            "          8 :  -Inf : - (x[2] - 5) - var[3] :   0.0 :   True\n",
            "\n",
            "7 Declarations: x_index x var_index var c_index c obj\n",
            "optimal cost value =  3.0\n",
            "optimal coordinate = 3.0 5.0\n"
          ]
        }
      ]
    },
    {
      "cell_type": "code",
      "source": [],
      "metadata": {
        "id": "US2q38Z7X6kv"
      },
      "execution_count": null,
      "outputs": []
    }
  ]
}