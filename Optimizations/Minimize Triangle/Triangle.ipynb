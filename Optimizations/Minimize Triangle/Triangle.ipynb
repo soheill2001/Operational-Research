{
  "nbformat": 4,
  "nbformat_minor": 0,
  "metadata": {
    "colab": {
      "provenance": []
    },
    "kernelspec": {
      "name": "python3",
      "display_name": "Python 3"
    },
    "language_info": {
      "name": "python"
    }
  },
  "cells": [
    {
      "cell_type": "markdown",
      "source": [
        "Install Libraries"
      ],
      "metadata": {
        "id": "lQs4Y8XRC0V1"
      }
    },
    {
      "cell_type": "code",
      "execution_count": null,
      "metadata": {
        "id": "q-PO4jp5-6yB"
      },
      "outputs": [],
      "source": [
        "%%bash\n",
        "pip install pyomo\n",
        "apt-get install -y -qq glpk-utils"
      ]
    },
    {
      "cell_type": "markdown",
      "source": [
        "Import Libraries"
      ],
      "metadata": {
        "id": "sfBF9iJJCzTf"
      }
    },
    {
      "cell_type": "code",
      "source": [
        "import pyomo.environ as pyo\n",
        "from pyomo.environ import *\n",
        "from pyomo.opt import SolverFactory"
      ],
      "metadata": {
        "id": "2CPDR05H__MK"
      },
      "execution_count": 3,
      "outputs": []
    },
    {
      "cell_type": "markdown",
      "source": [
        "Build model and define constraints and J (MAX)"
      ],
      "metadata": {
        "id": "2YfAKkJmC_In"
      }
    },
    {
      "cell_type": "code",
      "source": [
        "model = pyo.ConcreteModel()\n",
        "model.x = pyo.Var()\n",
        "model.y = pyo.Var()\n",
        "x = model.x\n",
        "y = model.y\n",
        "model.c1 = pyo.Constraint(expr = 8 - x - 0.5 * y >= 0)\n",
        "model.c2 = pyo.Constraint(expr = 7 + x - 1.5 * y >= 0)\n",
        "model.c3 = pyo.Constraint(expr = 1 + x >= 0)\n",
        "model.c4 = pyo.Constraint(expr = 8 - x - 0.5 * y + 7 + x - 1.5 * y >= 1 + x)\n",
        "model.c5 = pyo.Constraint(expr = 8 - x - 0.5 * y + 1 + x >= 7 + x - 1.5 * y)\n",
        "model.c6 = pyo.Constraint(expr = 7 + x - 1.5 * y + 1 + x >= 8 - x - 0.5 * y)\n",
        "model.obj = pyo.Objective(expr = 8 - x - 0.5 * y + 7 + x - 1.5 * y + 1 + x, sense = maximize)"
      ],
      "metadata": {
        "id": "P7aymYACAKg0"
      },
      "execution_count": 4,
      "outputs": []
    },
    {
      "cell_type": "markdown",
      "source": [
        "Solve the model"
      ],
      "metadata": {
        "id": "xr7L1fKkDKU1"
      }
    },
    {
      "cell_type": "code",
      "source": [
        "opt = SolverFactory('glpk')\n",
        "opt.solve(model)\n",
        "model.pprint()"
      ],
      "metadata": {
        "colab": {
          "base_uri": "https://localhost:8080/"
        },
        "id": "toAkiFDIDA8K",
        "outputId": "1ce4b11c-8d3f-44eb-cdbc-2c9e6654928f"
      },
      "execution_count": 5,
      "outputs": [
        {
          "output_type": "stream",
          "name": "stdout",
          "text": [
            "2 Var Declarations\n",
            "    x : Size=1, Index=None\n",
            "        Key  : Lower : Value : Upper : Fixed : Stale : Domain\n",
            "        None :  None :  -1.0 :  None : False : False :  Reals\n",
            "    y : Size=1, Index=None\n",
            "        Key  : Lower : Value : Upper : Fixed : Stale : Domain\n",
            "        None :  None :  -3.0 :  None : False : False :  Reals\n",
            "\n",
            "1 Objective Declarations\n",
            "    obj : Size=1, Index=None, Active=True\n",
            "        Key  : Active : Sense    : Expression\n",
            "        None :   True : maximize : 8 - x - 0.5*y + 7 + x - 1.5*y + 1 + x\n",
            "\n",
            "6 Constraint Declarations\n",
            "    c1 : Size=1, Index=None, Active=True\n",
            "        Key  : Lower : Body          : Upper : Active\n",
            "        None :   0.0 : 8 - x - 0.5*y :  +Inf :   True\n",
            "    c2 : Size=1, Index=None, Active=True\n",
            "        Key  : Lower : Body          : Upper : Active\n",
            "        None :   0.0 : 7 + x - 1.5*y :  +Inf :   True\n",
            "    c3 : Size=1, Index=None, Active=True\n",
            "        Key  : Lower : Body  : Upper : Active\n",
            "        None :   0.0 : 1 + x :  +Inf :   True\n",
            "    c4 : Size=1, Index=None, Active=True\n",
            "        Key  : Lower : Body                                    : Upper : Active\n",
            "        None :  -Inf : 1 + x - (8 - x - 0.5*y + 7 + x - 1.5*y) :   0.0 :   True\n",
            "    c5 : Size=1, Index=None, Active=True\n",
            "        Key  : Lower : Body                                    : Upper : Active\n",
            "        None :  -Inf : 7 + x - 1.5*y - (8 - x - 0.5*y + 1 + x) :   0.0 :   True\n",
            "    c6 : Size=1, Index=None, Active=True\n",
            "        Key  : Lower : Body                                    : Upper : Active\n",
            "        None :  -Inf : 8 - x - 0.5*y - (7 + x - 1.5*y + 1 + x) :   0.0 :   True\n",
            "\n",
            "9 Declarations: x y c1 c2 c3 c4 c5 c6 obj\n"
          ]
        }
      ]
    },
    {
      "cell_type": "markdown",
      "source": [
        "Result"
      ],
      "metadata": {
        "id": "ZC8i7uTjDP0j"
      }
    },
    {
      "cell_type": "code",
      "source": [
        "print(pyo.value(x))\n",
        "print(pyo.value(y))\n",
        "print('Side 1:', 8 - pyo.value(x) - 0.5 * pyo.value(y))\n",
        "print('Side 2', 7 + pyo.value(x) - 1.5 * pyo.value(y))\n",
        "print('Side 3', 1 + pyo.value(x))\n",
        "print(pyo.value(model.obj))"
      ],
      "metadata": {
        "colab": {
          "base_uri": "https://localhost:8080/"
        },
        "id": "m5II2wOGAfMM",
        "outputId": "a3500f6d-773f-4b3b-f18d-572e042ac678"
      },
      "execution_count": 7,
      "outputs": [
        {
          "output_type": "stream",
          "name": "stdout",
          "text": [
            "-1.0\n",
            "-3.0\n",
            "Side 1: 10.5\n",
            "Side 2 10.5\n",
            "Side 3 0.0\n",
            "21.0\n"
          ]
        }
      ]
    },
    {
      "cell_type": "markdown",
      "source": [
        "Build model and define constraints and J (MIN)"
      ],
      "metadata": {
        "id": "Lba3yO79Y4Os"
      }
    },
    {
      "cell_type": "code",
      "source": [
        "model = pyo.ConcreteModel()\n",
        "model.x = pyo.Var()\n",
        "model.y = pyo.Var()\n",
        "x = model.x\n",
        "y = model.y\n",
        "model.c1 = pyo.Constraint(expr = 8 - x - 0.5 * y >= 0)\n",
        "model.c2 = pyo.Constraint(expr = 7 + x - 1.5 * y >= 0)\n",
        "model.c3 = pyo.Constraint(expr = 1 + x >= 0)\n",
        "model.c4 = pyo.Constraint(expr = 8 - x - 0.5 * y + 7 + x - 1.5 * y >= 1 + x)\n",
        "model.c5 = pyo.Constraint(expr = 8 - x - 0.5 * y + 1 + x >= 7 + x - 1.5 * y)\n",
        "model.c6 = pyo.Constraint(expr = 7 + x - 1.5 * y + 1 + x >= 8 - x - 0.5 * y)\n",
        "model.obj = pyo.Objective(expr = 8 - x - 0.5 * y + 7 + x - 1.5 * y + 1 + x, sense = minimize)"
      ],
      "metadata": {
        "id": "YgGhRl49Y0D8"
      },
      "execution_count": 8,
      "outputs": []
    },
    {
      "cell_type": "code",
      "source": [
        "opt = SolverFactory('glpk')\n",
        "opt.solve(model)\n",
        "model.pprint()"
      ],
      "metadata": {
        "colab": {
          "base_uri": "https://localhost:8080/"
        },
        "id": "Gg2FOIcEY8p3",
        "outputId": "0bc7fd5b-1e0d-43ac-d948-82638c7097ac"
      },
      "execution_count": 9,
      "outputs": [
        {
          "output_type": "stream",
          "name": "stdout",
          "text": [
            "2 Var Declarations\n",
            "    x : Size=1, Index=None\n",
            "        Key  : Lower : Value : Upper : Fixed : Stale : Domain\n",
            "        None :  None :   2.0 :  None : False : False :  Reals\n",
            "    y : Size=1, Index=None\n",
            "        Key  : Lower : Value : Upper : Fixed : Stale : Domain\n",
            "        None :  None :   6.0 :  None : False : False :  Reals\n",
            "\n",
            "1 Objective Declarations\n",
            "    obj : Size=1, Index=None, Active=True\n",
            "        Key  : Active : Sense    : Expression\n",
            "        None :   True : minimize : 8 - x - 0.5*y + 7 + x - 1.5*y + 1 + x\n",
            "\n",
            "6 Constraint Declarations\n",
            "    c1 : Size=1, Index=None, Active=True\n",
            "        Key  : Lower : Body          : Upper : Active\n",
            "        None :   0.0 : 8 - x - 0.5*y :  +Inf :   True\n",
            "    c2 : Size=1, Index=None, Active=True\n",
            "        Key  : Lower : Body          : Upper : Active\n",
            "        None :   0.0 : 7 + x - 1.5*y :  +Inf :   True\n",
            "    c3 : Size=1, Index=None, Active=True\n",
            "        Key  : Lower : Body  : Upper : Active\n",
            "        None :   0.0 : 1 + x :  +Inf :   True\n",
            "    c4 : Size=1, Index=None, Active=True\n",
            "        Key  : Lower : Body                                    : Upper : Active\n",
            "        None :  -Inf : 1 + x - (8 - x - 0.5*y + 7 + x - 1.5*y) :   0.0 :   True\n",
            "    c5 : Size=1, Index=None, Active=True\n",
            "        Key  : Lower : Body                                    : Upper : Active\n",
            "        None :  -Inf : 7 + x - 1.5*y - (8 - x - 0.5*y + 1 + x) :   0.0 :   True\n",
            "    c6 : Size=1, Index=None, Active=True\n",
            "        Key  : Lower : Body                                    : Upper : Active\n",
            "        None :  -Inf : 8 - x - 0.5*y - (7 + x - 1.5*y + 1 + x) :   0.0 :   True\n",
            "\n",
            "9 Declarations: x y c1 c2 c3 c4 c5 c6 obj\n"
          ]
        }
      ]
    },
    {
      "cell_type": "code",
      "source": [
        "print(pyo.value(x))\n",
        "print(pyo.value(y))\n",
        "print('Side 1:', 8 - pyo.value(x) - 0.5 * pyo.value(y))\n",
        "print('Side 2', 7 + pyo.value(x) - 1.5 * pyo.value(y))\n",
        "print('Side 3', 1 + pyo.value(x))\n",
        "print(pyo.value(model.obj))"
      ],
      "metadata": {
        "colab": {
          "base_uri": "https://localhost:8080/"
        },
        "id": "3wE6yEc9Y-XC",
        "outputId": "c9aa4d43-895d-485c-9911-b2a37e0571f0"
      },
      "execution_count": 10,
      "outputs": [
        {
          "output_type": "stream",
          "name": "stdout",
          "text": [
            "2.0\n",
            "6.0\n",
            "Side 1: 3.0\n",
            "Side 2 0.0\n",
            "Side 3 3.0\n",
            "6.0\n"
          ]
        }
      ]
    }
  ]
}