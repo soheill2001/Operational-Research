{
 "cells": [
  {
   "cell_type": "code",
   "execution_count": 1,
   "metadata": {},
   "outputs": [],
   "source": [
    "def ebarat(x1, x2, x3, x4):\n",
    "    return 2*x1 + 4*x2 + 5*x3 + 8*x4"
   ]
  },
  {
   "cell_type": "code",
   "execution_count": 2,
   "metadata": {},
   "outputs": [],
   "source": [
    "def factorial(x):\n",
    "    if (x == 1 or x == 0):\n",
    "        return 1\n",
    "    else:\n",
    "        return x * factorial(x - 1)"
   ]
  },
  {
   "cell_type": "code",
   "execution_count": 3,
   "metadata": {},
   "outputs": [],
   "source": [
    "def calculate(x1, x2, x3, x4):\n",
    "    return factorial(x1 + x2 + x3 + x4) / (factorial(x1) * factorial(x2) * factorial(x3) * factorial(x4))"
   ]
  },
  {
   "cell_type": "code",
   "execution_count": 4,
   "metadata": {},
   "outputs": [],
   "source": [
    "def find_path_recursive(x1, x2, x3, x4, i, j, z, m, count):\n",
    "    if i == len(x1):\n",
    "        return count\n",
    "    if j == len(x2):\n",
    "        return find_path_recursive(x1, x2, x3, x4, i + 1, 0, 0, 0, count)\n",
    "    if z == len(x3):\n",
    "        return find_path_recursive(x1, x2, x3, x4, i, j + 1, 0, 0, count)\n",
    "    if m == len(x4):\n",
    "        return find_path_recursive(x1, x2, x3, x4, i, j, z + 1, 0, count)\n",
    "    if ebarat(x1[i], x2[j], x3[z], x4[m]) == 10:\n",
    "        count += calculate(x1[i], x2[j], x3[z], x4[m])\n",
    "    return find_path_recursive(x1, x2, x3, x4, i, j, z, m + 1, count)"
   ]
  },
  {
   "cell_type": "code",
   "execution_count": 5,
   "metadata": {},
   "outputs": [
    {
     "name": "stdout",
     "output_type": "stream",
     "text": [
      "11.0\n"
     ]
    }
   ],
   "source": [
    "x1 = [0, 1, 2, 3, 4, 5]\n",
    "x2 = [0, 1, 2]\n",
    "x3 = [0, 1, 2]\n",
    "x4 = [0, 1]\n",
    "print(find_path_recursive(x1, x2, x3, x4, 0, 0, 0, 0, 0))"
   ]
  }
 ],
 "metadata": {
  "kernelspec": {
   "display_name": "Python 3",
   "language": "python",
   "name": "python3"
  },
  "language_info": {
   "codemirror_mode": {
    "name": "ipython",
    "version": 3
   },
   "file_extension": ".py",
   "mimetype": "text/x-python",
   "name": "python",
   "nbconvert_exporter": "python",
   "pygments_lexer": "ipython3",
   "version": "3.10.2 (tags/v3.10.2:a58ebcc, Jan 17 2022, 14:12:15) [MSC v.1929 64 bit (AMD64)]"
  },
  "orig_nbformat": 4,
  "vscode": {
   "interpreter": {
    "hash": "107d7b120a5b68773a87d4067e673630b35702e55ebab3138143d08b1c4d7cbc"
   }
  }
 },
 "nbformat": 4,
 "nbformat_minor": 2
}
