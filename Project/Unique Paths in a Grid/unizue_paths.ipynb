{
 "cells": [
  {
   "cell_type": "code",
   "execution_count": 1,
   "metadata": {},
   "outputs": [],
   "source": [
    "def paths(grid, x_end, y_end, x_start, y_start):\n",
    "    if x_end == x_start and y_end == y_start:\n",
    "        return 1\n",
    "    if x_end <= x_start or y_end <= y_start or grid[x_end - 1][y_end - 1] == 1:\n",
    "        return 0\n",
    "    return (paths(grid, x_end - 1, y_end, x_start, y_start) + \n",
    "            paths(grid, x_end, y_end - 1, x_start, y_start) + \n",
    "            paths(grid, x_end - 1, y_end - 1, x_start, y_start))"
   ]
  },
  {
   "cell_type": "code",
   "execution_count": 2,
   "metadata": {},
   "outputs": [
    {
     "name": "stdout",
     "output_type": "stream",
     "text": [
      "318\n"
     ]
    }
   ],
   "source": [
    "grid = [[0, 0, 0, 0, 0, 0],\n",
    "        [0, 0, 0, 0, 0, 0],\n",
    "        [0, 1, 0, 1, 0, 0],\n",
    "        [0, 0, 0, 0, 0, 0],\n",
    "        [0, 0, 0, 1, 0, 0],\n",
    "        [0, 0, 0, 0, 0, 0]]\n",
    "print(paths(grid, 6, 6, 0, 0))"
   ]
  }
 ],
 "metadata": {
  "kernelspec": {
   "display_name": "Python 3",
   "language": "python",
   "name": "python3"
  },
  "language_info": {
   "codemirror_mode": {
    "name": "ipython",
    "version": 3
   },
   "file_extension": ".py",
   "mimetype": "text/x-python",
   "name": "python",
   "nbconvert_exporter": "python",
   "pygments_lexer": "ipython3",
   "version": "3.10.2"
  },
  "orig_nbformat": 4,
  "vscode": {
   "interpreter": {
    "hash": "107d7b120a5b68773a87d4067e673630b35702e55ebab3138143d08b1c4d7cbc"
   }
  }
 },
 "nbformat": 4,
 "nbformat_minor": 2
}
