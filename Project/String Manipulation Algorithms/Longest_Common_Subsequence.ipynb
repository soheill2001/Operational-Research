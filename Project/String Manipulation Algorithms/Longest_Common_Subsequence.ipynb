{
 "cells": [
  {
   "cell_type": "code",
   "execution_count": 1,
   "metadata": {},
   "outputs": [],
   "source": [
    "def zirseri(str1, str2, m, n):\n",
    "    if m == 0 or n == 0:\n",
    "        return 0\n",
    "    if str1[m-1] == str2[n-1]:\n",
    "        return 1 + zirseri(str1, str2, m-1, n-1)\n",
    "    else:\n",
    "        return max(zirseri(str1, str2, m, n-1), zirseri(str1, str2, m-1, n))"
   ]
  },
  {
   "cell_type": "code",
   "execution_count": 2,
   "metadata": {},
   "outputs": [
    {
     "name": "stdout",
     "output_type": "stream",
     "text": [
      "4\n"
     ]
    }
   ],
   "source": [
    "str1 = \"abdacbab\"\n",
    "str2 = \"acebfca\"\n",
    "print(zirseri(str1, str2, len(str1), len(str2)))"
   ]
  }
 ],
 "metadata": {
  "kernelspec": {
   "display_name": "Python 3",
   "language": "python",
   "name": "python3"
  },
  "language_info": {
   "codemirror_mode": {
    "name": "ipython",
    "version": 3
   },
   "file_extension": ".py",
   "mimetype": "text/x-python",
   "name": "python",
   "nbconvert_exporter": "python",
   "pygments_lexer": "ipython3",
   "version": "3.10.2"
  },
  "orig_nbformat": 4,
  "vscode": {
   "interpreter": {
    "hash": "107d7b120a5b68773a87d4067e673630b35702e55ebab3138143d08b1c4d7cbc"
   }
  }
 },
 "nbformat": 4,
 "nbformat_minor": 2
}
